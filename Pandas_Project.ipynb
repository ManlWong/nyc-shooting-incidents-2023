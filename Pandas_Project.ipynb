{
 "cells": [
  {
   "cell_type": "markdown",
   "metadata": {
    "cell_id": "392a93d892c24bda99f449d360b72757",
    "deepnote_cell_type": "text-cell-p",
    "formattedRanges": []
   },
   "source": [
    "Here we begin to clean the data using the data dictionary to decide on unnecessary fields, and then removing duplicates and empty rows. After doing so, we took the remaining information and created a new data frame with it.  "
   ]
  },
  {
   "cell_type": "markdown",
   "metadata": {
    "cell_id": "869b3c402a32465eb30951da2c1c204d",
    "deepnote_cell_type": "text-cell-p",
    "formattedRanges": [
     {
      "fromCodePoint": 37,
      "ranges": [],
      "toCodePoint": 132,
      "type": "link",
      "url": "https://data.cityofnewyork.us/Public-Safety/NYPD-Shooting-Incident-Data-Year-To-Date-/5ucz-vwe8"
     }
    ]
   },
   "source": [
    "The .csv file can be downloaded from https://data.cityofnewyork.us/Public-Safety/NYPD-Shooting-Incident-Data-Year-To-Date-/5ucz-vwe8 under the export tab as .csv"
   ]
  },
  {
   "cell_type": "code",
   "execution_count": 2,
   "metadata": {
    "cell_id": "e1cb47143ab44057b6466d75296278b3",
    "deepnote_cell_type": "code",
    "deepnote_table_loading": false,
    "deepnote_table_state": {
     "filters": [],
     "pageIndex": 0,
     "pageSize": 10,
     "sortBy": []
    },
    "deepnote_to_be_reexecuted": false,
    "execution_millis": 1239,
    "execution_start": 1702039531349,
    "source_hash": null
   },
   "outputs": [
    {
     "data": {
      "text/html": [
       "<div>\n",
       "<style scoped>\n",
       "    .dataframe tbody tr th:only-of-type {\n",
       "        vertical-align: middle;\n",
       "    }\n",
       "\n",
       "    .dataframe tbody tr th {\n",
       "        vertical-align: top;\n",
       "    }\n",
       "\n",
       "    .dataframe thead th {\n",
       "        text-align: right;\n",
       "    }\n",
       "</style>\n",
       "<table border=\"1\" class=\"dataframe\">\n",
       "  <thead>\n",
       "    <tr style=\"text-align: right;\">\n",
       "      <th></th>\n",
       "      <th>OCCUR_DATE</th>\n",
       "      <th>DAY_OF_THE_WEEK</th>\n",
       "      <th>OCCUR_TIME</th>\n",
       "      <th>BORO</th>\n",
       "      <th>LOC_OF_OCCUR_DESC</th>\n",
       "      <th>PRECINCT</th>\n",
       "      <th>STATISTICAL_MURDER_FLAG</th>\n",
       "      <th>PERP_AGE_GROUP</th>\n",
       "      <th>PERP_SEX</th>\n",
       "      <th>VIC_AGE_GROUP</th>\n",
       "      <th>VIC_SEX</th>\n",
       "      <th>VIC_RACE</th>\n",
       "    </tr>\n",
       "  </thead>\n",
       "  <tbody>\n",
       "    <tr>\n",
       "      <th>0</th>\n",
       "      <td>03/18/2023</td>\n",
       "      <td>Saturday</td>\n",
       "      <td>03:45:00</td>\n",
       "      <td>QUEENS</td>\n",
       "      <td>OUTSIDE</td>\n",
       "      <td>102</td>\n",
       "      <td>N</td>\n",
       "      <td>25-44</td>\n",
       "      <td>M</td>\n",
       "      <td>25-44</td>\n",
       "      <td>M</td>\n",
       "      <td>BLACK</td>\n",
       "    </tr>\n",
       "    <tr>\n",
       "      <th>1</th>\n",
       "      <td>02/22/2023</td>\n",
       "      <td>Wednesday</td>\n",
       "      <td>16:55:00</td>\n",
       "      <td>BRONX</td>\n",
       "      <td>OUTSIDE</td>\n",
       "      <td>44</td>\n",
       "      <td>N</td>\n",
       "      <td>25-44</td>\n",
       "      <td>M</td>\n",
       "      <td>25-44</td>\n",
       "      <td>M</td>\n",
       "      <td>WHITE HISPANIC</td>\n",
       "    </tr>\n",
       "    <tr>\n",
       "      <th>2</th>\n",
       "      <td>07/03/2023</td>\n",
       "      <td>Monday</td>\n",
       "      <td>21:25:00</td>\n",
       "      <td>BROOKLYN</td>\n",
       "      <td>OUTSIDE</td>\n",
       "      <td>75</td>\n",
       "      <td>N</td>\n",
       "      <td>18-24</td>\n",
       "      <td>M</td>\n",
       "      <td>25-44</td>\n",
       "      <td>M</td>\n",
       "      <td>BLACK</td>\n",
       "    </tr>\n",
       "    <tr>\n",
       "      <th>3</th>\n",
       "      <td>03/14/2023</td>\n",
       "      <td>Tuesday</td>\n",
       "      <td>09:49:00</td>\n",
       "      <td>MANHATTAN</td>\n",
       "      <td>OUTSIDE</td>\n",
       "      <td>20</td>\n",
       "      <td>N</td>\n",
       "      <td>18-24</td>\n",
       "      <td>M</td>\n",
       "      <td>&lt;18</td>\n",
       "      <td>M</td>\n",
       "      <td>BLACK</td>\n",
       "    </tr>\n",
       "    <tr>\n",
       "      <th>5</th>\n",
       "      <td>08/25/2023</td>\n",
       "      <td>Friday</td>\n",
       "      <td>22:45:00</td>\n",
       "      <td>BRONX</td>\n",
       "      <td>OUTSIDE</td>\n",
       "      <td>46</td>\n",
       "      <td>Y</td>\n",
       "      <td>25-44</td>\n",
       "      <td>M</td>\n",
       "      <td>25-44</td>\n",
       "      <td>M</td>\n",
       "      <td>BLACK HISPANIC</td>\n",
       "    </tr>\n",
       "    <tr>\n",
       "      <th>...</th>\n",
       "      <td>...</td>\n",
       "      <td>...</td>\n",
       "      <td>...</td>\n",
       "      <td>...</td>\n",
       "      <td>...</td>\n",
       "      <td>...</td>\n",
       "      <td>...</td>\n",
       "      <td>...</td>\n",
       "      <td>...</td>\n",
       "      <td>...</td>\n",
       "      <td>...</td>\n",
       "      <td>...</td>\n",
       "    </tr>\n",
       "    <tr>\n",
       "      <th>985</th>\n",
       "      <td>09/29/2023</td>\n",
       "      <td>Friday</td>\n",
       "      <td>00:30:00</td>\n",
       "      <td>QUEENS</td>\n",
       "      <td>OUTSIDE</td>\n",
       "      <td>102</td>\n",
       "      <td>N</td>\n",
       "      <td>45-64</td>\n",
       "      <td>M</td>\n",
       "      <td>25-44</td>\n",
       "      <td>M</td>\n",
       "      <td>BLACK</td>\n",
       "    </tr>\n",
       "    <tr>\n",
       "      <th>987</th>\n",
       "      <td>02/10/2023</td>\n",
       "      <td>Friday</td>\n",
       "      <td>23:25:00</td>\n",
       "      <td>BROOKLYN</td>\n",
       "      <td>INSIDE</td>\n",
       "      <td>88</td>\n",
       "      <td>N</td>\n",
       "      <td>25-44</td>\n",
       "      <td>M</td>\n",
       "      <td>45-64</td>\n",
       "      <td>M</td>\n",
       "      <td>WHITE HISPANIC</td>\n",
       "    </tr>\n",
       "    <tr>\n",
       "      <th>988</th>\n",
       "      <td>06/11/2023</td>\n",
       "      <td>Sunday</td>\n",
       "      <td>21:14:00</td>\n",
       "      <td>BRONX</td>\n",
       "      <td>OUTSIDE</td>\n",
       "      <td>42</td>\n",
       "      <td>N</td>\n",
       "      <td>25-44</td>\n",
       "      <td>M</td>\n",
       "      <td>25-44</td>\n",
       "      <td>M</td>\n",
       "      <td>WHITE HISPANIC</td>\n",
       "    </tr>\n",
       "    <tr>\n",
       "      <th>989</th>\n",
       "      <td>07/22/2023</td>\n",
       "      <td>Saturday</td>\n",
       "      <td>18:56:00</td>\n",
       "      <td>BRONX</td>\n",
       "      <td>OUTSIDE</td>\n",
       "      <td>47</td>\n",
       "      <td>N</td>\n",
       "      <td>25-44</td>\n",
       "      <td>M</td>\n",
       "      <td>25-44</td>\n",
       "      <td>M</td>\n",
       "      <td>BLACK</td>\n",
       "    </tr>\n",
       "    <tr>\n",
       "      <th>990</th>\n",
       "      <td>07/05/2023</td>\n",
       "      <td>Wednesday</td>\n",
       "      <td>08:28:00</td>\n",
       "      <td>BRONX</td>\n",
       "      <td>OUTSIDE</td>\n",
       "      <td>43</td>\n",
       "      <td>N</td>\n",
       "      <td>45-64</td>\n",
       "      <td>M</td>\n",
       "      <td>45-64</td>\n",
       "      <td>M</td>\n",
       "      <td>WHITE HISPANIC</td>\n",
       "    </tr>\n",
       "  </tbody>\n",
       "</table>\n",
       "<p>596 rows × 12 columns</p>\n",
       "</div>"
      ],
      "text/plain": [
       "     OCCUR_DATE DAY_OF_THE_WEEK OCCUR_TIME       BORO LOC_OF_OCCUR_DESC  \\\n",
       "0    03/18/2023        Saturday   03:45:00     QUEENS           OUTSIDE   \n",
       "1    02/22/2023       Wednesday   16:55:00      BRONX           OUTSIDE   \n",
       "2    07/03/2023          Monday   21:25:00   BROOKLYN           OUTSIDE   \n",
       "3    03/14/2023         Tuesday   09:49:00  MANHATTAN           OUTSIDE   \n",
       "5    08/25/2023          Friday   22:45:00      BRONX           OUTSIDE   \n",
       "..          ...             ...        ...        ...               ...   \n",
       "985  09/29/2023          Friday   00:30:00     QUEENS           OUTSIDE   \n",
       "987  02/10/2023          Friday   23:25:00   BROOKLYN            INSIDE   \n",
       "988  06/11/2023          Sunday   21:14:00      BRONX           OUTSIDE   \n",
       "989  07/22/2023        Saturday   18:56:00      BRONX           OUTSIDE   \n",
       "990  07/05/2023       Wednesday   08:28:00      BRONX           OUTSIDE   \n",
       "\n",
       "     PRECINCT STATISTICAL_MURDER_FLAG PERP_AGE_GROUP PERP_SEX VIC_AGE_GROUP  \\\n",
       "0         102                       N          25-44        M         25-44   \n",
       "1          44                       N          25-44        M         25-44   \n",
       "2          75                       N          18-24        M         25-44   \n",
       "3          20                       N          18-24        M           <18   \n",
       "5          46                       Y          25-44        M         25-44   \n",
       "..        ...                     ...            ...      ...           ...   \n",
       "985       102                       N          45-64        M         25-44   \n",
       "987        88                       N          25-44        M         45-64   \n",
       "988        42                       N          25-44        M         25-44   \n",
       "989        47                       N          25-44        M         25-44   \n",
       "990        43                       N          45-64        M         45-64   \n",
       "\n",
       "    VIC_SEX        VIC_RACE  \n",
       "0         M           BLACK  \n",
       "1         M  WHITE HISPANIC  \n",
       "2         M           BLACK  \n",
       "3         M           BLACK  \n",
       "5         M  BLACK HISPANIC  \n",
       "..      ...             ...  \n",
       "985       M           BLACK  \n",
       "987       M  WHITE HISPANIC  \n",
       "988       M  WHITE HISPANIC  \n",
       "989       M           BLACK  \n",
       "990       M  WHITE HISPANIC  \n",
       "\n",
       "[596 rows x 12 columns]"
      ]
     },
     "execution_count": 2,
     "metadata": {},
     "output_type": "execute_result"
    }
   ],
   "source": [
    "import pandas as pd\n",
    "from datetime import datetime\n",
    "import numpy as np\n",
    "import matplotlib.pyplot as plt\n",
    "df = pd.read_csv('NYPD_Shooting_Incident_Data__Year_To_Date__20231207.csv')\n",
    "\n",
    "df = df.drop(['INCIDENT_KEY','JURISDICTION_CODE','X_COORD_CD','Y_COORD_CD','Longitude',\n",
    "            'Latitude','New Georeferenced Column','LOCATION_DESC', 'PERP_RACE', 'LOC_CLASSFCTN_DESC',],axis=1).drop_duplicates()\n",
    "df['OCCUR_DATE'] = pd.to_datetime(df.OCCUR_DATE)\n",
    "df['DAY_OF_THE_WEEK'] = df['OCCUR_DATE'].dt.day_name()\n",
    "df['OCCUR_DATE'] = df['OCCUR_DATE'].dt.strftime('%m/%d/%Y')\n",
    "df = df[['OCCUR_DATE', 'DAY_OF_THE_WEEK', 'OCCUR_TIME', 'BORO', 'LOC_OF_OCCUR_DESC', 'PRECINCT',\n",
    "        'STATISTICAL_MURDER_FLAG', 'PERP_AGE_GROUP', 'PERP_SEX', 'VIC_AGE_GROUP', 'VIC_SEX', 'VIC_RACE']]\n",
    "\n",
    "\n",
    "df = df.replace('(null)',np.nan).dropna()\n",
    "df"
   ]
  },
  {
   "cell_type": "markdown",
   "metadata": {
    "cell_id": "e6a5c60dedc14c1d86d874b05051619b",
    "deepnote_cell_type": "text-cell-p",
    "formattedRanges": [
     {
      "fromCodePoint": 0,
      "marks": {
       "bold": true
      },
      "toCodePoint": 219,
      "type": "marks"
     }
    ]
   },
   "source": [
    "Temporal Trends: How has the frequency of shooting incidents changed over time in NYC? Are there any patterns or trends in the data when analyzed by year or month? not really relevant because all the data is from 2023. "
   ]
  },
  {
   "cell_type": "markdown",
   "metadata": {
    "cell_id": "a72883c5081449c8bbf6bb20ca6ee9bc",
    "deepnote_cell_type": "text-cell-p",
    "formattedRanges": []
   },
   "source": [
    "This block is used to calculate the number of shooting incidents in regard to a specific day of the week and normalize this information to a percentage."
   ]
  },
  {
   "cell_type": "code",
   "execution_count": 3,
   "metadata": {
    "allow_embed": "code",
    "cell_id": "d6be96ac20844bc396c7395a6294374f",
    "deepnote_cell_type": "code",
    "deepnote_to_be_reexecuted": false,
    "execution_millis": 27,
    "execution_start": 1702039532846,
    "source_hash": null
   },
   "outputs": [
    {
     "data": {
      "text/plain": [
       "Saturday     20.469799\n",
       "Sunday       15.604027\n",
       "Friday       14.765101\n",
       "Monday       13.926174\n",
       "Tuesday      12.751678\n",
       "Wednesday    12.583893\n",
       "Thursday      9.899329\n",
       "Name: DAY_OF_THE_WEEK, dtype: float64"
      ]
     },
     "execution_count": 3,
     "metadata": {},
     "output_type": "execute_result"
    }
   ],
   "source": [
    "df['DAY_OF_THE_WEEK'].value_counts(normalize=True)*100"
   ]
  },
  {
   "cell_type": "markdown",
   "metadata": {
    "cell_id": "dd21120cf8514489a25d22c810ded908",
    "deepnote_cell_type": "text-cell-p",
    "formattedRanges": []
   },
   "source": [
    "This block creates a new column 'SEASON' and adds it to the data frame, categorizing the months into digestible information. "
   ]
  },
  {
   "cell_type": "code",
   "execution_count": 4,
   "metadata": {
    "cell_id": "14032e8120fa42f4b9240f9b911547cf",
    "deepnote_cell_type": "code",
    "deepnote_to_be_reexecuted": false,
    "execution_millis": 34,
    "execution_start": 1702039532861,
    "source_hash": null
   },
   "outputs": [
    {
     "data": {
      "text/plain": [
       "Summer    233\n",
       "Spring    200\n",
       "Winter    112\n",
       "Fall       51\n",
       "Name: SEASON, dtype: int64"
      ]
     },
     "execution_count": 4,
     "metadata": {},
     "output_type": "execute_result"
    }
   ],
   "source": [
    "#Man Loan \n",
    "df['OCCUR_DATE'] = pd.to_datetime(df['OCCUR_DATE'])\n",
    "df['MONTH'] = df['OCCUR_DATE'].dt.month\n",
    "def seasons(month):\n",
    "    if month in [3,4,5]:\n",
    "        return 'Spring'\n",
    "    elif month in [6,7,8]:\n",
    "        return 'Summer'\n",
    "    elif month in [9,10,11]:\n",
    "        return 'Fall'\n",
    "    else:\n",
    "        return \"Winter\"\n",
    "df['SEASON']= df['MONTH'].apply(seasons)\n",
    "df['SEASON'].value_counts()\n",
    "\n"
   ]
  },
  {
   "cell_type": "markdown",
   "metadata": {
    "cell_id": "0ba0423922d94ce09d807fcb55ed4559",
    "deepnote_cell_type": "text-cell-p",
    "formattedRanges": []
   },
   "source": [
    "This is a histogram of Shootings by Month. "
   ]
  },
  {
   "cell_type": "code",
   "execution_count": 5,
   "metadata": {
    "cell_id": "9dbbe86a081e4a96add1c2068ccd2863",
    "deepnote_cell_type": "code",
    "deepnote_to_be_reexecuted": false,
    "execution_millis": 432,
    "execution_start": 1702039532896,
    "source_hash": null
   },
   "outputs": [
    {
     "data": {
      "image/png": "[encoded data removed]",
      "text/plain": [
       "<Figure size 640x480 with 1 Axes>"
      ]
     },
     "metadata": {},
     "output_type": "display_data"
    }
   ],
   "source": [
    "plt.hist(df['MONTH'].values)\n",
    "plt.title(\"Histogram of Shootings by Month\")\n",
    "plt.xlabel(\"Month\")\n",
    "plt.ylabel(\"Frequency of Shootings\")\n",
    "plt.show()"
   ]
  },
  {
   "cell_type": "markdown",
   "metadata": {
    "cell_id": "511690b8362248b78c2c36d738e7d4ab",
    "deepnote_cell_type": "text-cell-p",
    "formattedRanges": []
   },
   "source": [
    "This block of code was executed to provide a count of crimes separated by Month. "
   ]
  },
  {
   "cell_type": "code",
   "execution_count": 7,
   "metadata": {
    "cell_id": "a5cabb03aee34fa8a8fed375dacaa3ab",
    "deepnote_cell_type": "code",
    "deepnote_to_be_reexecuted": false,
    "execution_millis": 33,
    "execution_start": 1702039533318,
    "source_hash": null
   },
   "outputs": [
    {
     "data": {
      "text/plain": [
       "Jul    99\n",
       "Jun    78\n",
       "May    73\n",
       "Mar    68\n",
       "Apr    59\n",
       "Feb    58\n",
       "Aug    56\n",
       "Jan    54\n",
       "Sep    51\n",
       "Name: MONTH, dtype: int64"
      ]
     },
     "execution_count": 7,
     "metadata": {},
     "output_type": "execute_result"
    }
   ],
   "source": [
    "month_map ={1:'Jan', 2:'Feb', 3:'Mar', 4:'Apr', 5:'May', 6:'Jun', 7:'Jul', 8:'Aug',\n",
    "            9:'Sep', 10:'Oct', 11:'Nov', 12:'Dec'}\n",
    "df['MONTH'] = df['MONTH'].replace(month_map)\n",
    "df['MONTH'].value_counts()"
   ]
  },
  {
   "cell_type": "markdown",
   "metadata": {
    "cell_id": "a9bf103c80824a20aa8b9283fd16f6e6",
    "deepnote_cell_type": "text-cell-p",
    "formattedRanges": []
   },
   "source": [
    "There is a spike in shooting incidents during the Summer and Spring and a sharp decline in incidents in the Winter and Fall. As seen above, the most frequency was seen in July and June, and the least frequency was seen in April and January. There is a high correlation between higher temperatures and increased aggression. There are also more outdoor activities which increases the chances of confrontations. There is also no school in the summer, meaning the unsupervised youth can engage in gang activity and other forms of juvenile delinquency.  "
   ]
  },
  {
   "cell_type": "markdown",
   "metadata": {
    "cell_id": "0953578b0cb641ae858baa64b7782bda",
    "deepnote_cell_type": "text-cell-p",
    "formattedRanges": [
     {
      "fromCodePoint": 0,
      "marks": {
       "bold": true,
       "underline": true
      },
      "toCodePoint": 86,
      "type": "marks"
     }
    ]
   },
   "source": [
    "Which boroughs have the highest number of shooting incidents during the year of 2023? "
   ]
  },
  {
   "cell_type": "markdown",
   "metadata": {
    "cell_id": "0c5588ae344242d88756eb81724fcb6c",
    "deepnote_cell_type": "text-cell-p",
    "formattedRanges": []
   },
   "source": [
    "This block of code breaks down the crime data into percentages by Borough, (i.e. 28.06% of the Shooting Incidents occurred in Brooklyn)"
   ]
  },
  {
   "cell_type": "code",
   "execution_count": 8,
   "metadata": {
    "cell_id": "2a6ac88e33934679bc54f6832d5c1b2c",
    "deepnote_cell_type": "code",
    "deepnote_to_be_reexecuted": false,
    "execution_millis": 35,
    "execution_start": 1702039533344,
    "source_hash": null
   },
   "outputs": [
    {
     "data": {
      "text/plain": [
       "BRONX            40.100671\n",
       "BROOKLYN         28.187919\n",
       "MANHATTAN        15.100671\n",
       "QUEENS           13.926174\n",
       "STATEN ISLAND     2.684564\n",
       "Name: BORO, dtype: float64"
      ]
     },
     "execution_count": 8,
     "metadata": {},
     "output_type": "execute_result"
    }
   ],
   "source": [
    "df['BORO'].value_counts(normalize=True)*100"
   ]
  },
  {
   "cell_type": "markdown",
   "metadata": {
    "cell_id": "4d0649a9321a44dba49db51aeca00c83",
    "deepnote_cell_type": "text-cell-p",
    "formattedRanges": [
     {
      "fromCodePoint": 310,
      "ranges": [],
      "toCodePoint": 465,
      "type": "link",
      "url": "https://www.census.gov/quickfacts/fact/table/richmondcountynewyork,bronxcountynewyork,queenscountynewyork,newyorkcountynewyork,kingscountynewyork/RHI225222"
     }
    ]
   },
   "source": [
    "kAccording to the data the majority of shooting in the city for the year of 2023 takes place in the Bronx followed by Brooklyn. As per the data majority of shooting incidents involve Black victims and according to US census data Bronx and Brooklyn has a largest population of Black people throughout the city. https://www.census.gov/quickfacts/fact/table/richmondcountynewyork,bronxcountynewyork,queenscountynewyork,newyorkcountynewyork,kingscountynewyork/RHI225222"
   ]
  },
  {
   "cell_type": "markdown",
   "metadata": {
    "cell_id": "3b241cd20bad4494be28dee6ccf4bc1a",
    "deepnote_cell_type": "text-cell-p",
    "formattedRanges": [
     {
      "fromCodePoint": 0,
      "marks": {
       "bold": true,
       "underline": true
      },
      "toCodePoint": 150,
      "type": "marks"
     }
    ]
   },
   "source": [
    "*Time Analysis: Are shooting incidents more frequent during specific times of the day or week? How do occurrences vary between daytime and nighttime? "
   ]
  },
  {
   "cell_type": "markdown",
   "metadata": {
    "cell_id": "129880515a0e4cd7b4e3a98a8d3cf00b",
    "deepnote_cell_type": "text-cell-p",
    "formattedRanges": []
   },
   "source": [
    "The code below first breaks down the time of day the crime was committed either into Daytime (6AM-6PM) and Nighttime (7PM-5AM). Next, in order to break down the data into a line graph representing the frequency of shooting incidents we first, changed the format of the time shown from 24hr time to AM-PM time. In doing so, the data would be much easier to represent on a graph. After having done so we plotted a line graph with the data, which represents how often crime was committed throughout the day. "
   ]
  },
  {
   "cell_type": "code",
   "execution_count": 9,
   "metadata": {
    "cell_id": "4486d9f31b854c2b9241810af65715a8",
    "deepnote_cell_type": "code",
    "deepnote_to_be_reexecuted": false,
    "execution_millis": 465,
    "execution_start": 1702039533399,
    "source_hash": null
   },
   "outputs": [
    {
     "data": {
      "image/png": "[encoded data removed]",
      "text/plain": [
       "<Figure size 640x480 with 1 Axes>"
      ]
     },
     "metadata": {},
     "output_type": "display_data"
    },
    {
     "name": "stdout",
     "output_type": "stream",
     "text": [
      "\n",
      "Time of Day Frequency:\n",
      "Nighttime    355\n",
      "Daytime      241\n",
      "Name: time_of_day, dtype: int64\n"
     ]
    }
   ],
   "source": [
    "#James\n",
    "df['OCCUR_TIME'] = pd.to_datetime(df['OCCUR_TIME'], format='%H:%M:%S', errors='coerce')\n",
    "df['hour'] = df['OCCUR_TIME'].dt.hour\n",
    "\n",
    "\n",
    "def categorize_time_of_day(hour):    \n",
    "    if 6 <= hour < 18:        \n",
    "        return 'Daytime'    \n",
    "    else:        \n",
    "        return 'Nighttime'\n",
    "\n",
    "df['time_of_day'] = df['hour'].apply(categorize_time_of_day)\n",
    "def format_hour(hour):\n",
    "    if hour == 0:\n",
    "        return '12 AM'\n",
    "    elif hour < 12:\n",
    "        return f'{hour} AM'\n",
    "    elif hour == 12:\n",
    "        return '12 PM'\n",
    "    else:\n",
    "        return f'{hour - 12} PM'\n",
    "\n",
    "hourly_frequency = df['hour'].value_counts().sort_index()\n",
    "time_of_day_frequency = df['time_of_day'].value_counts()\n",
    "hourly_frequency.index = [format_hour(hour) for hour in hourly_frequency.index]\n",
    "time_of_day_frequency.index = ['Daytime' if time_of_day == 'Daytime' else 'Nighttime' for time_of_day in time_of_day_frequency.index]\n",
    "\n",
    "hourly_frequency.plot(kind='line')\n",
    "plt.xlabel('Hour')\n",
    "plt.ylabel('Frequency')\n",
    "plt.xticks(range(len(hourly_frequency.index)), hourly_frequency.index, rotation=90)\n",
    "plt.show()\n",
    "\n",
    "print(\"\\nTime of Day Frequency:\")\n",
    "print(time_of_day_frequency)\n"
   ]
  },
  {
   "cell_type": "markdown",
   "metadata": {
    "cell_id": "496301402a8b4010a17dba421876e5d2",
    "deepnote_cell_type": "text-cell-p",
    "formattedRanges": []
   },
   "source": [
    "Shooting incidents are most frequent at Night and on Saturdays. There is a large spike in shooting incidents starting at 9 PM peaking 10 PM with a drastic decline in shooting incidents at 3 AM. Wednesday and Thursday had the least amount of shootings in our data, while Saturdays and Sundays had the most. "
   ]
  },
  {
   "cell_type": "markdown",
   "metadata": {
    "cell_id": "5155e7fb34d842d284147b26ae1353ea",
    "deepnote_cell_type": "text-cell-p",
    "formattedRanges": []
   },
   "source": [
    "Here we presented the data with Season and Borough in mind, and represented each Borough with different colored lines, and had each season represented on the x-axis."
   ]
  },
  {
   "cell_type": "code",
   "execution_count": null,
   "metadata": {
    "cell_id": "7b5b505c1f4e4bf99147498e6be4dc41",
    "deepnote_cell_type": "code",
    "deepnote_to_be_reexecuted": false,
    "execution_millis": 511,
    "execution_start": 1702039533850,
    "source_hash": null
   },
   "outputs": [
    {
     "data": {
      "image/png": "[encoded data removed]",
      "text/plain": [
       "<Figure size 640x480 with 1 Axes>"
      ]
     },
     "metadata": {
      "image/png": {
       "height": 455,
       "width": 572
      }
     },
     "output_type": "display_data"
    }
   ],
   "source": [
    "#Daniel, Max\n",
    "pivot_table = df.pivot_table(index='SEASON', columns='BORO', aggfunc='size')\n",
    "\n",
    "\n",
    "pivot_table.plot(kind='line', marker='o', linestyle='-')\n",
    "\n",
    "\n",
    "plt.title('Crime Frequency by Season and Borough')\n",
    "plt.xlabel('Season')\n",
    "plt.ylabel('Crime Frequency')\n",
    "plt.legend(title='Borough', loc='upper left')\n",
    "plt.grid(True)\n",
    "plt.show()\n"
   ]
  },
  {
   "cell_type": "markdown",
   "metadata": {
    "cell_id": "3ab7c935adc24781909684a1351907c8",
    "deepnote_cell_type": "text-cell-p",
    "formattedRanges": []
   },
   "source": [
    "We clearly see that both variables of Season and Borough are the biggest influences on frequency of shooting incidents. Overall, we have found that Summer and Spring are the seasons with the highest frequency of shootings, and the Bronx and Brooklyn are the two boroughs with the highest frequency of shootings. When combined in one graph as such, our concurrent findings are made crystal clear.  "
   ]
  },
  {
   "cell_type": "markdown",
   "metadata": {
    "cell_id": "ba23f4a3edf242ccb5a39f6c2701a4a5",
    "deepnote_cell_type": "text-cell-p",
    "formattedRanges": [
     {
      "fromCodePoint": 0,
      "marks": {
       "bold": true,
       "underline": true
      },
      "toCodePoint": 220,
      "type": "marks"
     }
    ]
   },
   "source": [
    "Victim and Perpetrator Demographics: What are the common age groups, genders, and races of victims and perpetrators in these incidents? Are there noticeable differences in the demographics of victims versus perpetrators?"
   ]
  },
  {
   "cell_type": "markdown",
   "metadata": {
    "cell_id": "556cc25c0b0b40efb99f200f5b61d763",
    "deepnote_cell_type": "text-cell-p",
    "formattedRanges": []
   },
   "source": [
    "Here we create two functions one to categorize and group the victims by their age group based off the information in the VIC_AGE_GROUP column, and a second function to categorize whether the victim was killed in the incident as well. Then we apply these functions to the dataframe and create new columns. From there we count the occurrence of each of the categories age group, killed, sex, and race. Finally we print these results."
   ]
  },
  {
   "cell_type": "code",
   "execution_count": null,
   "metadata": {
    "cell_id": "39c1dadacae6452b8d60e5124d48bc69",
    "deepnote_cell_type": "code",
    "deepnote_to_be_reexecuted": false,
    "execution_millis": 65,
    "execution_start": 1702039534363,
    "source_hash": null
   },
   "outputs": [
    {
     "name": "stdout",
     "output_type": "stream",
     "text": [
      "Number of Victims Grouped by Age\n",
      "Middle Age    315\n",
      "Senior         82\n",
      "Young         199\n",
      "Name: Age of Victims, dtype: int64\n",
      "Number of Killed Victims Grouped by Age\n",
      "Middle Age    92\n",
      "Senior        24\n",
      "Young         43\n",
      "Name: Age of Killed Victims, dtype: int64\n",
      "Victims Categorized by Sex\n",
      "F     74\n",
      "M    522\n",
      "Name: VIC_SEX, dtype: int64\n",
      "Victims Categorized by Race\n",
      "AMERICAN INDIAN/ALASKAN NATIVE      1\n",
      "ASIAN / PACIFIC ISLANDER           19\n",
      "BLACK                             361\n",
      "BLACK HISPANIC                     75\n",
      "UNKNOWN                             1\n",
      "WHITE                              14\n",
      "WHITE HISPANIC                    125\n",
      "Name: VIC_RACE, dtype: int64\n"
     ]
    }
   ],
   "source": [
    "#Max\n",
    "#Victim Analysis\n",
    "\n",
    "def categorize_age(age):\n",
    "    if age=='<18'or age=='18-24':\n",
    "        return 'Young'\n",
    "    elif age=='25-44':\n",
    "        return 'Middle Age'\n",
    "    elif age=='45-64' or '65+':\n",
    "        return 'Senior'\n",
    "\n",
    "def categorize_death_age(age,death):\n",
    "    if death == 'Y':\n",
    "        if age=='<18'or age=='18-24':\n",
    "            return 'Young'\n",
    "        elif age=='25-44':\n",
    "            return 'Middle Age'\n",
    "        elif age=='45-64' or '65+':\n",
    "            return 'Senior'\n",
    "\n",
    "\n",
    "df['Age of Victims'] = df['VIC_AGE_GROUP'].apply(categorize_age)\n",
    "df['Age of Killed Victims'] = df.apply(lambda row: categorize_death_age(row['VIC_AGE_GROUP'],row['STATISTICAL_MURDER_FLAG']),axis=1)\n",
    "age_groups = df['Age of Victims'].value_counts().sort_index()\n",
    "killed_age_groups = df['Age of Killed Victims'].value_counts().sort_index()\n",
    "\n",
    "victim_gender = df['VIC_SEX'].value_counts().sort_index()\n",
    "#df['Sex of Killed Victims'] = df.apply(lambda row: (row['VIC_SEX'],row['STATISTICAL_MURDER_FLAG']))\n",
    "victim_race = df['VIC_RACE'].value_counts().sort_index()\n",
    "\n",
    "\n",
    "\n",
    "print('Number of Victims Grouped by Age')\n",
    "print(age_groups)\n",
    "print('Number of Killed Victims Grouped by Age')\n",
    "print(killed_age_groups)\n",
    "print('Victims Categorized by Sex')\n",
    "print(victim_gender)\n",
    "print('Victims Categorized by Race')\n",
    "print(victim_race)\n",
    "\n",
    "\n",
    "\n"
   ]
  },
  {
   "cell_type": "markdown",
   "metadata": {
    "cell_id": "93abc33937f04c5c8976d1a8451a78fc",
    "deepnote_cell_type": "text-cell-p",
    "formattedRanges": []
   },
   "source": [
    "We categorized Victims into three groups, 'Middle Age' representative of 25-44 years old, 'Senior' representative of 45 and older, and 'Young' representative of 24 years old and younger. Our findings found that the highest frequency was found in the 'Middle Age' group regarding the number of victims in shooting incidents as well as victims killed by said shooting incidents. The finding was concurrent with our thoughts as victims that are shot are often fighting the perpetrator, as well as the fact that the 'Middle Age' people are the most likely to be out, or available to be shot. Disregarding the idea that shootings may be premeditated, in random encounters, you need to be outside to be shot. "
   ]
  },
  {
   "cell_type": "markdown",
   "metadata": {
    "cell_id": "fa7419e0d6eb4260b84dac93f3652d0a",
    "deepnote_cell_type": "text-cell-p",
    "formattedRanges": []
   },
   "source": [
    "We also found that males are much more likely to be shot at more than 8 times the rate. "
   ]
  },
  {
   "cell_type": "markdown",
   "metadata": {
    "cell_id": "e2976db11eb64d88b9b776fa432e8147",
    "deepnote_cell_type": "text-cell-p",
    "formattedRanges": []
   },
   "source": [
    "We also found that victims were most often Black, then White Hispanic. "
   ]
  },
  {
   "cell_type": "markdown",
   "metadata": {
    "cell_id": "376cf5563d0a4d6fbf344d4c765dd971",
    "deepnote_cell_type": "text-cell-p",
    "formattedRanges": [
     {
      "fromCodePoint": 0,
      "marks": {
       "bold": true,
       "underline": true
      },
      "toCodePoint": 163,
      "type": "marks"
     }
    ]
   },
   "source": [
    "How often do shooting incidents result in fatalities? Are there specific patterns or trends related to fatal shootings in terms of location, time, or demographics?"
   ]
  },
  {
   "cell_type": "markdown",
   "metadata": {
    "cell_id": "baa33c591abf4f4b84043faed80bb76d",
    "deepnote_cell_type": "text-cell-p",
    "formattedRanges": []
   },
   "source": [
    "We group the dataframe by the borough and murder flag(whether the victim was killed in the incident) and then display the information as a pivot table."
   ]
  },
  {
   "cell_type": "code",
   "execution_count": null,
   "metadata": {
    "cell_id": "1199b46efc18481fa4338dd07619f8ca",
    "deepnote_cell_type": "code",
    "deepnote_to_be_reexecuted": false,
    "execution_millis": 83,
    "execution_start": 1702039534424,
    "source_hash": null
   },
   "outputs": [
    {
     "name": "stdout",
     "output_type": "stream",
     "text": [
      "Statistical Summary:\n"
     ]
    },
    {
     "data": {
      "application/vnd.deepnote.dataframe.v3+json": {
       "column_count": 4,
       "columns": [
        {
         "dtype": "int64",
         "name": "Y",
         "stats": {
          "histogram": [
           {
            "bin_end": 10,
            "bin_start": 4,
            "count": 1
           },
           {
            "bin_end": 16,
            "bin_start": 10,
            "count": 1
           },
           {
            "bin_end": 22,
            "bin_start": 16,
            "count": 0
           },
           {
            "bin_end": 28,
            "bin_start": 22,
            "count": 0
           },
           {
            "bin_end": 34,
            "bin_start": 28,
            "count": 1
           },
           {
            "bin_end": 40,
            "bin_start": 34,
            "count": 0
           },
           {
            "bin_end": 46,
            "bin_start": 40,
            "count": 0
           },
           {
            "bin_end": 52,
            "bin_start": 46,
            "count": 1
           },
           {
            "bin_end": 58,
            "bin_start": 52,
            "count": 0
           },
           {
            "bin_end": 64,
            "bin_start": 58,
            "count": 1
           }
          ],
          "max": "64",
          "min": "4",
          "nan_count": 0,
          "unique_count": 5
         }
        },
        {
         "dtype": "int64",
         "name": "N",
         "stats": {
          "histogram": [
           {
            "bin_end": 28.3,
            "bin_start": 12,
            "count": 1
           },
           {
            "bin_end": 44.6,
            "bin_start": 28.3,
            "count": 0
           },
           {
            "bin_end": 60.900000000000006,
            "bin_start": 44.6,
            "count": 0
           },
           {
            "bin_end": 77.2,
            "bin_start": 60.900000000000006,
            "count": 2
           },
           {
            "bin_end": 93.5,
            "bin_start": 77.2,
            "count": 0
           },
           {
            "bin_end": 109.80000000000001,
            "bin_start": 93.5,
            "count": 0
           },
           {
            "bin_end": 126.10000000000001,
            "bin_start": 109.80000000000001,
            "count": 1
           },
           {
            "bin_end": 142.4,
            "bin_start": 126.10000000000001,
            "count": 0
           },
           {
            "bin_end": 158.70000000000002,
            "bin_start": 142.4,
            "count": 0
           },
           {
            "bin_end": 175,
            "bin_start": 158.70000000000002,
            "count": 1
           }
          ],
          "max": "175",
          "min": "12",
          "nan_count": 0,
          "unique_count": 5
         }
        },
        {
         "dtype": "float64",
         "name": "Y_percent",
         "stats": {
          "histogram": [
           {
            "bin_end": 19.376171352074966,
            "bin_start": 18.072289156626507,
            "count": 1
           },
           {
            "bin_end": 20.68005354752343,
            "bin_start": 19.376171352074966,
            "count": 0
           },
           {
            "bin_end": 21.983935742971887,
            "bin_start": 20.68005354752343,
            "count": 0
           },
           {
            "bin_end": 23.287817938420346,
            "bin_start": 21.983935742971887,
            "count": 0
           },
           {
            "bin_end": 24.59170013386881,
            "bin_start": 23.287817938420346,
            "count": 0
           },
           {
            "bin_end": 25.895582329317268,
            "bin_start": 24.59170013386881,
            "count": 1
           },
           {
            "bin_end": 27.19946452476573,
            "bin_start": 25.895582329317268,
            "count": 1
           },
           {
            "bin_end": 28.50334672021419,
            "bin_start": 27.19946452476573,
            "count": 0
           },
           {
            "bin_end": 29.807228915662648,
            "bin_start": 28.50334672021419,
            "count": 1
           },
           {
            "bin_end": 31.11111111111111,
            "bin_start": 29.807228915662648,
            "count": 1
           }
          ],
          "max": "31.11111111111111",
          "min": "18.072289156626507",
          "nan_count": 0,
          "unique_count": 5
         }
        },
        {
         "dtype": "float64",
         "name": "N_percent",
         "stats": {
          "histogram": [
           {
            "bin_end": 70.19277108433735,
            "bin_start": 68.88888888888889,
            "count": 1
           },
           {
            "bin_end": 71.4966532797858,
            "bin_start": 70.19277108433735,
            "count": 1
           },
           {
            "bin_end": 72.80053547523427,
            "bin_start": 71.4966532797858,
            "count": 0
           },
           {
            "bin_end": 74.10441767068272,
            "bin_start": 72.80053547523427,
            "count": 1
           },
           {
            "bin_end": 75.40829986613119,
            "bin_start": 74.10441767068272,
            "count": 1
           },
           {
            "bin_end": 76.71218206157965,
            "bin_start": 75.40829986613119,
            "count": 0
           },
           {
            "bin_end": 78.0160642570281,
            "bin_start": 76.71218206157965,
            "count": 0
           },
           {
            "bin_end": 79.31994645247657,
            "bin_start": 78.0160642570281,
            "count": 0
           },
           {
            "bin_end": 80.62382864792502,
            "bin_start": 79.31994645247657,
            "count": 0
           },
           {
            "bin_end": 81.92771084337349,
            "bin_start": 80.62382864792502,
            "count": 1
           }
          ],
          "max": "81.92771084337349",
          "min": "68.88888888888889",
          "nan_count": 0,
          "unique_count": 5
         }
        },
        {
         "dtype": "object",
         "name": "_deepnote_index_column"
        }
       ],
       "row_count": 5,
       "rows": [
        {
         "N": 175,
         "N_percent": 73.22175732217573,
         "Y": 64,
         "Y_percent": 26.778242677824267,
         "_deepnote_index_column": "BRONX"
        },
        {
         "N": 120,
         "N_percent": 71.42857142857143,
         "Y": 48,
         "Y_percent": 28.57142857142857,
         "_deepnote_index_column": "BROOKLYN"
        },
        {
         "N": 62,
         "N_percent": 68.88888888888889,
         "Y": 28,
         "Y_percent": 31.11111111111111,
         "_deepnote_index_column": "MANHATTAN"
        },
        {
         "N": 68,
         "N_percent": 81.92771084337349,
         "Y": 15,
         "Y_percent": 18.072289156626507,
         "_deepnote_index_column": "QUEENS"
        },
        {
         "N": 12,
         "N_percent": 75,
         "Y": 4,
         "Y_percent": 25,
         "_deepnote_index_column": "STATEN ISLAND"
        }
       ]
      },
      "text/html": [
       "<div>\n",
       "<style scoped>\n",
       "    .dataframe tbody tr th:only-of-type {\n",
       "        vertical-align: middle;\n",
       "    }\n",
       "\n",
       "    .dataframe tbody tr th {\n",
       "        vertical-align: top;\n",
       "    }\n",
       "\n",
       "    .dataframe thead th {\n",
       "        text-align: right;\n",
       "    }\n",
       "</style>\n",
       "<table border=\"1\" class=\"dataframe\">\n",
       "  <thead>\n",
       "    <tr style=\"text-align: right;\">\n",
       "      <th>STATISTICAL_MURDER_FLAG</th>\n",
       "      <th>Y</th>\n",
       "      <th>N</th>\n",
       "      <th>Y_percent</th>\n",
       "      <th>N_percent</th>\n",
       "    </tr>\n",
       "    <tr>\n",
       "      <th>BORO</th>\n",
       "      <th></th>\n",
       "      <th></th>\n",
       "      <th></th>\n",
       "      <th></th>\n",
       "    </tr>\n",
       "  </thead>\n",
       "  <tbody>\n",
       "    <tr>\n",
       "      <th>BRONX</th>\n",
       "      <td>64</td>\n",
       "      <td>175</td>\n",
       "      <td>26.778243</td>\n",
       "      <td>73.221757</td>\n",
       "    </tr>\n",
       "    <tr>\n",
       "      <th>BROOKLYN</th>\n",
       "      <td>48</td>\n",
       "      <td>120</td>\n",
       "      <td>28.571429</td>\n",
       "      <td>71.428571</td>\n",
       "    </tr>\n",
       "    <tr>\n",
       "      <th>MANHATTAN</th>\n",
       "      <td>28</td>\n",
       "      <td>62</td>\n",
       "      <td>31.111111</td>\n",
       "      <td>68.888889</td>\n",
       "    </tr>\n",
       "    <tr>\n",
       "      <th>QUEENS</th>\n",
       "      <td>15</td>\n",
       "      <td>68</td>\n",
       "      <td>18.072289</td>\n",
       "      <td>81.927711</td>\n",
       "    </tr>\n",
       "    <tr>\n",
       "      <th>STATEN ISLAND</th>\n",
       "      <td>4</td>\n",
       "      <td>12</td>\n",
       "      <td>25.000000</td>\n",
       "      <td>75.000000</td>\n",
       "    </tr>\n",
       "  </tbody>\n",
       "</table>\n",
       "</div>"
      ],
      "text/plain": [
       "STATISTICAL_MURDER_FLAG   Y    N  Y_percent  N_percent\n",
       "BORO                                                  \n",
       "BRONX                    64  175  26.778243  73.221757\n",
       "BROOKLYN                 48  120  28.571429  71.428571\n",
       "MANHATTAN                28   62  31.111111  68.888889\n",
       "QUEENS                   15   68  18.072289  81.927711\n",
       "STATEN ISLAND             4   12  25.000000  75.000000"
      ]
     },
     "execution_count": 11,
     "metadata": {},
     "output_type": "execute_result"
    }
   ],
   "source": [
    "#Daniel, James\n",
    "statistical_summary = df.groupby(['BORO', 'STATISTICAL_MURDER_FLAG']).size().reset_index(name='count')\n",
    "\n",
    "statistical_summary_pivot = statistical_summary.pivot_table(index='BORO', columns='STATISTICAL_MURDER_FLAG', values='count', fill_value=0)\n",
    "\n",
    "statistical_summary_pivot['Y_percent'] = (statistical_summary_pivot['Y'] / (statistical_summary_pivot['Y'] + statistical_summary_pivot['N'])) * 100\n",
    "statistical_summary_pivot['N_percent'] = (statistical_summary_pivot['N'] / (statistical_summary_pivot['Y'] + statistical_summary_pivot['N'])) * 100\n",
    "\n",
    "print(\"Statistical Summary:\")\n",
    "statistical_summary_pivot[['Y', 'N', 'Y_percent', 'N_percent']]\n"
   ]
  },
  {
   "cell_type": "markdown",
   "metadata": {
    "cell_id": "83fcb0078a4248ca80acd967ba3d1fb0",
    "deepnote_cell_type": "text-cell-p",
    "formattedRanges": []
   },
   "source": [
    "Based on the data we can see the highest percentage of fatal shootings that occurred in NYC boroughs. More shootings have happened in Brooklyn and the Bronx but with less murder percentage. But overall there is less percentage of murder happening."
   ]
  },
  {
   "cell_type": "markdown",
   "metadata": {
    "cell_id": "b7a54dcd6da043a081977f4f83a26c6d",
    "deepnote_cell_type": "text-cell-p",
    "formattedRanges": [
     {
      "fromCodePoint": 0,
      "marks": {
       "bold": true,
       "underline": true
      },
      "toCodePoint": 137,
      "type": "marks"
     }
    ]
   },
   "source": [
    "Is there a variance in the frequency of shooting incidents that occur in a particular season during the year compared to the entire year?"
   ]
  },
  {
   "cell_type": "markdown",
   "metadata": {
    "cell_id": "fa7ca2690c3548cc99e864cc3487a5ba",
    "deepnote_cell_type": "text-cell-p",
    "formattedRanges": []
   },
   "source": [
    "Here we separated the original dataframe into four separate dataframes and create a line multi-line plot to show if there is a variance in the frequencies of the shooting incidents based of the season. "
   ]
  },
  {
   "cell_type": "code",
   "execution_count": null,
   "metadata": {
    "cell_id": "2ee9ae6974f340a9b31457549bda0325",
    "deepnote_cell_type": "code",
    "deepnote_table_loading": false,
    "deepnote_table_state": {
     "filters": [],
     "pageIndex": 0,
     "pageSize": 10,
     "sortBy": [
      {
       "id": "hour",
       "type": "asc"
      }
     ]
    },
    "deepnote_to_be_reexecuted": false,
    "execution_millis": 704,
    "execution_start": 1702039534555,
    "source_hash": null
   },
   "outputs": [
    {
     "data": {
      "image/png": "[encoded data removed]",
      "text/plain": [
       "<Figure size 1000x600 with 1 Axes>"
      ]
     },
     "metadata": {
      "image/png": {
       "height": 554,
       "width": 841
      }
     },
     "output_type": "display_data"
    }
   ],
   "source": [
    "#Man Loan\n",
    "summerDf = df[df['SEASON'].str.lower() == 'summer']\n",
    "fallDf = df[df['SEASON'].str.lower() == 'fall']\n",
    "winterDf = df[df['SEASON'].str.lower() == 'winter']\n",
    "springDf = df[df['SEASON'].str.lower() == 'spring']\n",
    "\n",
    "plt.figure(figsize=(10,6))\n",
    "springDf['hour'].value_counts().sort_index().plot(kind='line', label='Spring',color='green')\n",
    "summerDf['hour'].value_counts().sort_index().plot(kind='line', label='Summer',color='red')\n",
    "fallDf['hour'].value_counts().sort_index().plot(kind='line',label='Fall',color='darkorange')\n",
    "winterDf['hour'].value_counts().sort_index().plot(kind='line',label='Winter',color='blue')\n",
    "\n",
    "plt.xlabel('Hour')\n",
    "plt.ylabel('Frequency')\n",
    "plt.xticks(range(len(hourly_frequency.index)), hourly_frequency.index, rotation=90)\n",
    "plt.legend(loc='upper center')\n",
    "plt.show()"
   ]
  },
  {
   "cell_type": "markdown",
   "metadata": {
    "cell_id": "4f32a7a51c124d3988d9804a43f51d50",
    "deepnote_cell_type": "text-cell-p",
    "formattedRanges": []
   },
   "source": [
    "From this graph we can see that the peak occurrence of shooting incidents in the city tends to occur in the afternoon during fall and winter. While the peak occurrence of shooting incidents tend to occur between 9PM and 12AM for spring and summer. This is surprising from our time frequency analysis of shooting incidents we could see there is a spike in incidents from 1 PM to 3 PM can solely be contributed to shooting incidents that occurred during the winter.  "
   ]
  },
  {
   "cell_type": "markdown",
   "metadata": {
    "cell_id": "08f7cf1334534d3fa27f37b183928f80",
    "deepnote_cell_type": "text-cell-p",
    "formattedRanges": []
   },
   "source": [
    "This block of code groups the dataframe by borough and the description of the location of the incident occurrence, than calculating the percentage of the occurrence of each location, and then print out the results "
   ]
  },
  {
   "cell_type": "code",
   "execution_count": null,
   "metadata": {
    "cell_id": "9ec9c5bab63146b8aa79cb403f20aaf8",
    "deepnote_cell_type": "code",
    "deepnote_to_be_reexecuted": false,
    "execution_millis": 32,
    "execution_start": 1702039535250,
    "source_hash": null
   },
   "outputs": [
    {
     "name": "stdout",
     "output_type": "stream",
     "text": [
      "Location Summary:\n"
     ]
    },
    {
     "data": {
      "application/vnd.deepnote.dataframe.v3+json": {
       "column_count": 2,
       "columns": [
        {
         "dtype": "float64",
         "name": "INSIDE",
         "stats": {
          "histogram": [
           {
            "bin_end": 13.511904761904763,
            "bin_start": 12.5,
            "count": 1
           },
           {
            "bin_end": 14.523809523809524,
            "bin_start": 13.511904761904763,
            "count": 0
           },
           {
            "bin_end": 15.535714285714286,
            "bin_start": 14.523809523809524,
            "count": 0
           },
           {
            "bin_end": 16.547619047619047,
            "bin_start": 15.535714285714286,
            "count": 0
           },
           {
            "bin_end": 17.55952380952381,
            "bin_start": 16.547619047619047,
            "count": 3
           },
           {
            "bin_end": 18.571428571428573,
            "bin_start": 17.55952380952381,
            "count": 0
           },
           {
            "bin_end": 19.583333333333336,
            "bin_start": 18.571428571428573,
            "count": 0
           },
           {
            "bin_end": 20.595238095238095,
            "bin_start": 19.583333333333336,
            "count": 0
           },
           {
            "bin_end": 21.60714285714286,
            "bin_start": 20.595238095238095,
            "count": 0
           },
           {
            "bin_end": 22.61904761904762,
            "bin_start": 21.60714285714286,
            "count": 1
           }
          ],
          "max": "22.61904761904762",
          "min": "12.5",
          "nan_count": 0,
          "unique_count": 5
         }
        },
        {
         "dtype": "float64",
         "name": "OUTSIDE",
         "stats": {
          "histogram": [
           {
            "bin_end": 78.39285714285714,
            "bin_start": 77.38095238095238,
            "count": 1
           },
           {
            "bin_end": 79.4047619047619,
            "bin_start": 78.39285714285714,
            "count": 0
           },
           {
            "bin_end": 80.41666666666667,
            "bin_start": 79.4047619047619,
            "count": 0
           },
           {
            "bin_end": 81.42857142857143,
            "bin_start": 80.41666666666667,
            "count": 0
           },
           {
            "bin_end": 82.44047619047619,
            "bin_start": 81.42857142857143,
            "count": 0
           },
           {
            "bin_end": 83.45238095238095,
            "bin_start": 82.44047619047619,
            "count": 3
           },
           {
            "bin_end": 84.46428571428571,
            "bin_start": 83.45238095238095,
            "count": 0
           },
           {
            "bin_end": 85.47619047619048,
            "bin_start": 84.46428571428571,
            "count": 0
           },
           {
            "bin_end": 86.48809523809524,
            "bin_start": 85.47619047619048,
            "count": 0
           },
           {
            "bin_end": 87.5,
            "bin_start": 86.48809523809524,
            "count": 1
           }
          ],
          "max": "87.5",
          "min": "77.38095238095238",
          "nan_count": 0,
          "unique_count": 5
         }
        },
        {
         "dtype": "object",
         "name": "_deepnote_index_column"
        }
       ],
       "row_count": 5,
       "rows": [
        {
         "INSIDE": 17.154811715481173,
         "OUTSIDE": 82.84518828451883,
         "_deepnote_index_column": "BRONX"
        },
        {
         "INSIDE": 22.61904761904762,
         "OUTSIDE": 77.38095238095238,
         "_deepnote_index_column": "BROOKLYN"
        },
        {
         "INSIDE": 16.666666666666664,
         "OUTSIDE": 83.33333333333334,
         "_deepnote_index_column": "MANHATTAN"
        },
        {
         "INSIDE": 16.867469879518072,
         "OUTSIDE": 83.13253012048193,
         "_deepnote_index_column": "QUEENS"
        },
        {
         "INSIDE": 12.5,
         "OUTSIDE": 87.5,
         "_deepnote_index_column": "STATEN ISLAND"
        }
       ]
      },
      "text/html": [
       "<div>\n",
       "<style scoped>\n",
       "    .dataframe tbody tr th:only-of-type {\n",
       "        vertical-align: middle;\n",
       "    }\n",
       "\n",
       "    .dataframe tbody tr th {\n",
       "        vertical-align: top;\n",
       "    }\n",
       "\n",
       "    .dataframe thead th {\n",
       "        text-align: right;\n",
       "    }\n",
       "</style>\n",
       "<table border=\"1\" class=\"dataframe\">\n",
       "  <thead>\n",
       "    <tr style=\"text-align: right;\">\n",
       "      <th>LOC_OF_OCCUR_DESC</th>\n",
       "      <th>INSIDE</th>\n",
       "      <th>OUTSIDE</th>\n",
       "    </tr>\n",
       "    <tr>\n",
       "      <th>BORO</th>\n",
       "      <th></th>\n",
       "      <th></th>\n",
       "    </tr>\n",
       "  </thead>\n",
       "  <tbody>\n",
       "    <tr>\n",
       "      <th>BRONX</th>\n",
       "      <td>17.154812</td>\n",
       "      <td>82.845188</td>\n",
       "    </tr>\n",
       "    <tr>\n",
       "      <th>BROOKLYN</th>\n",
       "      <td>22.619048</td>\n",
       "      <td>77.380952</td>\n",
       "    </tr>\n",
       "    <tr>\n",
       "      <th>MANHATTAN</th>\n",
       "      <td>16.666667</td>\n",
       "      <td>83.333333</td>\n",
       "    </tr>\n",
       "    <tr>\n",
       "      <th>QUEENS</th>\n",
       "      <td>16.867470</td>\n",
       "      <td>83.132530</td>\n",
       "    </tr>\n",
       "    <tr>\n",
       "      <th>STATEN ISLAND</th>\n",
       "      <td>12.500000</td>\n",
       "      <td>87.500000</td>\n",
       "    </tr>\n",
       "  </tbody>\n",
       "</table>\n",
       "</div>"
      ],
      "text/plain": [
       "LOC_OF_OCCUR_DESC     INSIDE    OUTSIDE\n",
       "BORO                                   \n",
       "BRONX              17.154812  82.845188\n",
       "BROOKLYN           22.619048  77.380952\n",
       "MANHATTAN          16.666667  83.333333\n",
       "QUEENS             16.867470  83.132530\n",
       "STATEN ISLAND      12.500000  87.500000"
      ]
     },
     "execution_count": 13,
     "metadata": {},
     "output_type": "execute_result"
    }
   ],
   "source": [
    "#James\n",
    "location_summary = df.groupby(['BORO', 'LOC_OF_OCCUR_DESC']).size().unstack(fill_value=0)\n",
    "location_percentage = location_summary.div(location_summary.sum(axis=1), axis=0) * 100\n",
    "print(\"Location Summary:\")\n",
    "location_percentage"
   ]
  },
  {
   "cell_type": "markdown",
   "metadata": {
    "cell_id": "8188c90526f44c1d85529a8bf50a370b",
    "deepnote_cell_type": "text-cell-p",
    "formattedRanges": []
   },
   "source": [
    "From the data we can see that a majority of shooting incidents occur outside of as oppose to inside of buildings. "
   ]
  },
  {
   "cell_type": "markdown",
   "metadata": {
    "cell_id": "52205975528a44dfbd11509ce65fd5a2",
    "deepnote_cell_type": "text-cell-p",
    "formattedRanges": [
     {
      "fromCodePoint": 0,
      "marks": {
       "bold": true,
       "underline": true
      },
      "toCodePoint": 182,
      "type": "marks"
     }
    ]
   },
   "source": [
    "Relationship with Special Events: Do shooting incidents increase during major events or holidays in New York City, such as New Year's Eve, Fourth of July, or large public gatherings?"
   ]
  },
  {
   "cell_type": "markdown",
   "metadata": {
    "cell_id": "837837089cf14e2e9ab4748a88b87cc2",
    "deepnote_cell_type": "text-cell-p",
    "formattedRanges": []
   },
   "source": [
    "In this block we create a dictionary of major US holidays. then iterate through the OCCUR_DATE column in the dataframe creating a new column flagging whether or not the date is in the dictionary. Lastly it averages and prints out the number of incidents on event dates and non-event days. "
   ]
  },
  {
   "cell_type": "code",
   "execution_count": null,
   "metadata": {
    "cell_id": "77179df0824d41e0806d6290363bbd2e",
    "deepnote_cell_type": "code",
    "deepnote_to_be_reexecuted": false,
    "execution_millis": 51,
    "execution_start": 1702039535253,
    "source_hash": null
   },
   "outputs": [
    {
     "name": "stdout",
     "output_type": "stream",
     "text": [
      "Average incidents on major event days: 2.0\n",
      "Average incidents on non-event days: 0.9863945578231292\n"
     ]
    }
   ],
   "source": [
    "#Daniel\n",
    "# Define major event dates (example dates here, replace with actual dates)\n",
    "major_events = {\n",
    "    'New Year\\'s Day': '2023-01-01',\n",
    "    'Fourth of July': '2023-07-04',\n",
    "    'Labor Day':'2023-09-04',\n",
    "    'Juneteenth':'2023-06-19',\n",
    "    'Memorial Day':'2023-05-29',\n",
    "    'President\\'s Day':'2023-02-20',\n",
    "    'Columbus Day':'2023-10-09',\n",
    "    'St. Patricks Day':'2023-03-17'\n",
    "    # Add other events as needed\n",
    "}\n",
    "\n",
    "# Convert event dates to datetime and flag rows that fall on these dates\n",
    "for event, date in major_events.items():\n",
    "    event_date = pd.to_datetime(date)\n",
    "    df[event] = df['OCCUR_DATE'] == event_date\n",
    "\n",
    "# Analyze the data\n",
    "# Calculate the average incidents on event days vs. non-event days\n",
    "average_on_event_days = df[list(major_events.keys())].sum().mean()\n",
    "average_on_non_event_days = (len(df) - df[list(major_events.keys())].sum().sum()) / (len(df) - len(major_events))\n",
    "\n",
    "# Print results\n",
    "print(\"Average incidents on major event days:\", average_on_event_days)\n",
    "print(\"Average incidents on non-event days:\", average_on_non_event_days)\n",
    "\n",
    "# Further analysis can be done to check statistical significance\n"
   ]
  },
  {
   "cell_type": "markdown",
   "metadata": {
    "cell_id": "d81b92db5e6c4adeb5ec29e7b2ffb91c",
    "deepnote_cell_type": "text-cell-p",
    "formattedRanges": []
   },
   "source": [
    "According to the data occurrence of shooting incidents are two times more likely to occur during major events/ holidays in NYC. From this information as well as our analysis of temporal trends, which shows that shootings are more likely to occur during the summer, we can infer that shootings are more likely to occur when people have more ability to come into contact with each other."
   ]
  },
  {
   "cell_type": "markdown",
   "metadata": {
    "created_in_deepnote_cell": true,
    "deepnote_cell_type": "markdown"
   },
   "source": [
    "<a style='text-decoration:none;line-height:16px;display:flex;color:#5B5B62;padding:10px;justify-content:end;' href='https://deepnote.com?utm_source=created-in-deepnote-cell&projectId=df56140f-4493-496f-9466-d93aa8d32ab3' target=\"_blank\">\n",
    "<img alt='Created in deepnote.com' style='display:inline;max-height:16px;margin:0px;margin-right:7.5px;' src='data:image/svg+xml;base64,PD94bWwgdmVyc2lvbj0iMS4wIiBlbmNvZGluZz0iVVRGLTgiPz4KPHN2ZyB3aWR0aD0iODBweCIgaGVpZ2h0PSI4MHB4IiB2aWV3Qm94PSIwIDAgODAgODAiIHZlcnNpb249IjEuMSIgeG1sbnM9Imh0dHA6Ly93d3cudzMub3JnLzIwMDAvc3ZnIiB4bWxuczp4bGluaz0iaHR0cDovL3d3dy53My5vcmcvMTk5OS94bGluayI+CiAgICA8IS0tIEdlbmVyYXRvcjogU2tldGNoIDU0LjEgKDc2NDkwKSAtIGh0dHBzOi8vc2tldGNoYXBwLmNvbSAtLT4KICAgIDx0aXRsZT5Hcm91cCAzPC90aXRsZT4KICAgIDxkZXNjPkNyZWF0ZWQgd2l0aCBTa2V0Y2guPC9kZXNjPgogICAgPGcgaWQ9IkxhbmRpbmciIHN0cm9rZT0ibm9uZSIgc3Ryb2tlLXdpZHRoPSIxIiBmaWxsPSJub25lIiBmaWxsLXJ1bGU9ImV2ZW5vZGQiPgogICAgICAgIDxnIGlkPSJBcnRib2FyZCIgdHJhbnNmb3JtPSJ0cmFuc2xhdGUoLTEyMzUuMDAwMDAwLCAtNzkuMDAwMDAwKSI+CiAgICAgICAgICAgIDxnIGlkPSJHcm91cC0zIiB0cmFuc2Zvcm09InRyYW5zbGF0ZSgxMjM1LjAwMDAwMCwgNzkuMDAwMDAwKSI+CiAgICAgICAgICAgICAgICA8cG9seWdvbiBpZD0iUGF0aC0yMCIgZmlsbD0iIzAyNjVCNCIgcG9pbnRzPSIyLjM3NjIzNzYyIDgwIDM4LjA0NzY2NjcgODAgNTcuODIxNzgyMiA3My44MDU3NTkyIDU3LjgyMTc4MjIgMzIuNzU5MjczOSAzOS4xNDAyMjc4IDMxLjY4MzE2ODMiPjwvcG9seWdvbj4KICAgICAgICAgICAgICAgIDxwYXRoIGQ9Ik0zNS4wMDc3MTgsODAgQzQyLjkwNjIwMDcsNzYuNDU0OTM1OCA0Ny41NjQ5MTY3LDcxLjU0MjI2NzEgNDguOTgzODY2LDY1LjI2MTk5MzkgQzUxLjExMjI4OTksNTUuODQxNTg0MiA0MS42NzcxNzk1LDQ5LjIxMjIyODQgMjUuNjIzOTg0Niw0OS4yMTIyMjg0IEMyNS40ODQ5Mjg5LDQ5LjEyNjg0NDggMjkuODI2MTI5Niw0My4yODM4MjQ4IDM4LjY0NzU4NjksMzEuNjgzMTY4MyBMNzIuODcxMjg3MSwzMi41NTQ0MjUgTDY1LjI4MDk3Myw2Ny42NzYzNDIxIEw1MS4xMTIyODk5LDc3LjM3NjE0NCBMMzUuMDA3NzE4LDgwIFoiIGlkPSJQYXRoLTIyIiBmaWxsPSIjMDAyODY4Ij48L3BhdGg+CiAgICAgICAgICAgICAgICA8cGF0aCBkPSJNMCwzNy43MzA0NDA1IEwyNy4xMTQ1MzcsMC4yNTcxMTE0MzYgQzYyLjM3MTUxMjMsLTEuOTkwNzE3MDEgODAsMTAuNTAwMzkyNyA4MCwzNy43MzA0NDA1IEM4MCw2NC45NjA0ODgyIDY0Ljc3NjUwMzgsNzkuMDUwMzQxNCAzNC4zMjk1MTEzLDgwIEM0Ny4wNTUzNDg5LDc3LjU2NzA4MDggNTMuNDE4MjY3Nyw3MC4zMTM2MTAzIDUzLjQxODI2NzcsNTguMjM5NTg4NSBDNTMuNDE4MjY3Nyw0MC4xMjg1NTU3IDM2LjMwMzk1NDQsMzcuNzMwNDQwNSAyNS4yMjc0MTcsMzcuNzMwNDQwNSBDMTcuODQzMDU4NiwzNy43MzA0NDA1IDkuNDMzOTE5NjYsMzcuNzMwNDQwNSAwLDM3LjczMDQ0MDUgWiIgaWQ9IlBhdGgtMTkiIGZpbGw9IiMzNzkzRUYiPjwvcGF0aD4KICAgICAgICAgICAgPC9nPgogICAgICAgIDwvZz4KICAgIDwvZz4KPC9zdmc+' > </img>\n",
    "Created in <span style='font-weight:600;margin-left:4px;'>Deepnote</span></a>"
   ]
  }
 ],
 "metadata": {
  "deepnote": {},
  "deepnote_execution_queue": [],
  "deepnote_notebook_id": "1ec9daf7550745a5851fb7d34aa7bceb",
  "deepnote_persisted_session": {
   "createdAt": "2023-12-08T13:01:02.840Z"
  },
  "kernelspec": {
   "display_name": "Python 3 (ipykernel)",
   "language": "python",
   "name": "python3"
  },
  "language_info": {
   "codemirror_mode": {
    "name": "ipython",
    "version": 3
   },
   "file_extension": ".py",
   "mimetype": "text/x-python",
   "name": "python",
   "nbconvert_exporter": "python",
   "pygments_lexer": "ipython3",
   "version": "3.11.4"
  }
 },
 "nbformat": 4,
 "nbformat_minor": 1
}
